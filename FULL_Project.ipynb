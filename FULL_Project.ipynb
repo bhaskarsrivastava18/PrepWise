{
 "cells": [
  {
   "cell_type": "code",
   "execution_count": 1,
   "id": "0a75ba2a",
   "metadata": {},
   "outputs": [
    {
     "name": "stderr",
     "output_type": "stream",
     "text": [
      "C:\\Users\\meghn\\anaconda3\\python meghna\\Lib\\site-packages\\pandas\\core\\arrays\\masked.py:61: UserWarning: Pandas requires version '1.3.6' or newer of 'bottleneck' (version '1.3.5' currently installed).\n",
      "  from pandas.core import (\n"
     ]
    }
   ],
   "source": [
    "import pandas as pd\n",
    "import numpy as np\n",
    "import matplotlib.pyplot as plt\n",
    "import seaborn as sns\n",
    "import warnings"
   ]
  },
  {
   "cell_type": "code",
   "execution_count": 2,
   "id": "2be4af0f",
   "metadata": {},
   "outputs": [],
   "source": [
    "from sklearn.linear_model import LinearRegression\n",
    "from sklearn import metrics\n",
    "from sklearn.preprocessing import StandardScaler\n",
    "from sklearn.preprocessing import MinMaxScaler\n",
    "\n",
    "%matplotlib inline"
   ]
  },
  {
   "cell_type": "code",
   "execution_count": 3,
   "id": "f0f99fe6",
   "metadata": {},
   "outputs": [],
   "source": [
    "pd.set_option('display.max_rows', 20)\n",
    "warnings.filterwarnings('ignore')"
   ]
  },
  {
   "cell_type": "code",
   "execution_count": 4,
   "id": "8417d57d",
   "metadata": {},
   "outputs": [],
   "source": [
    "df = pd.read_csv(\"Ecommerce Customers.unknown\")"
   ]
  },
  {
   "cell_type": "code",
   "execution_count": 5,
   "id": "27205e95",
   "metadata": {},
   "outputs": [
    {
     "name": "stdout",
     "output_type": "stream",
     "text": [
      "                           Email  \\\n",
      "0      mstephenson@fernandez.com   \n",
      "1              hduke@hotmail.com   \n",
      "2               pallen@yahoo.com   \n",
      "3        riverarebecca@gmail.com   \n",
      "4  mstephens@davidson-herman.com   \n",
      "\n",
      "                                             Address            Avatar  \\\n",
      "0       835 Frank Tunnel\\nWrightmouth, MI 82180-9605            Violet   \n",
      "1     4547 Archer Common\\nDiazchester, CA 06566-8576         DarkGreen   \n",
      "2  24645 Valerie Unions Suite 582\\nCobbborough, D...            Bisque   \n",
      "3   1414 David Throughway\\nPort Jason, OH 22070-1220       SaddleBrown   \n",
      "4  14023 Rodriguez Passage\\nPort Jacobville, PR 3...  MediumAquaMarine   \n",
      "\n",
      "   Avg. Session Length  Time on App  Time on Website  Length of Membership  \\\n",
      "0            34.497268    12.655651        39.577668              4.082621   \n",
      "1            31.926272    11.109461        37.268959              2.664034   \n",
      "2            33.000915    11.330278        37.110597              4.104543   \n",
      "3            34.305557    13.717514        36.721283              3.120179   \n",
      "4            33.330673    12.795189        37.536653              4.446308   \n",
      "\n",
      "   Yearly Amount Spent  \n",
      "0           587.951054  \n",
      "1           392.204933  \n",
      "2           487.547505  \n",
      "3           581.852344  \n",
      "4           599.406092  \n"
     ]
    }
   ],
   "source": [
    "print(df.head())"
   ]
  },
  {
   "cell_type": "code",
   "execution_count": 6,
   "id": "5ca835e5",
   "metadata": {},
   "outputs": [
    {
     "name": "stdout",
     "output_type": "stream",
     "text": [
      "Index(['Email', 'Address', 'Avatar', 'Avg. Session Length', 'Time on App',\n",
      "       'Time on Website', 'Length of Membership', 'Yearly Amount Spent'],\n",
      "      dtype='object')\n"
     ]
    }
   ],
   "source": [
    "print(df.columns)"
   ]
  },
  {
   "cell_type": "code",
   "execution_count": 7,
   "id": "ba87555f",
   "metadata": {},
   "outputs": [
    {
     "name": "stdout",
     "output_type": "stream",
     "text": [
      "Email                   0\n",
      "Address                 0\n",
      "Avatar                  0\n",
      "Avg. Session Length     0\n",
      "Time on App             0\n",
      "Time on Website         0\n",
      "Length of Membership    0\n",
      "Yearly Amount Spent     0\n",
      "dtype: int64\n"
     ]
    }
   ],
   "source": [
    "print(df.isnull().sum())"
   ]
  },
  {
   "cell_type": "code",
   "execution_count": 8,
   "id": "be152a2e",
   "metadata": {},
   "outputs": [
    {
     "name": "stdout",
     "output_type": "stream",
     "text": [
      "Email                   500\n",
      "Address                 500\n",
      "Avatar                  138\n",
      "Avg. Session Length     500\n",
      "Time on App             500\n",
      "Time on Website         500\n",
      "Length of Membership    500\n",
      "Yearly Amount Spent     500\n",
      "dtype: int64\n"
     ]
    }
   ],
   "source": [
    "print(df.nunique())"
   ]
  },
  {
   "cell_type": "code",
   "execution_count": 9,
   "id": "91d3ce9e",
   "metadata": {},
   "outputs": [],
   "source": [
    "#fill missing values if any \n",
    "df['Avatar'].fillna(\"Unknown\", inplace=True)"
   ]
  },
  {
   "cell_type": "code",
   "execution_count": 10,
   "id": "396f838f",
   "metadata": {},
   "outputs": [],
   "source": [
    "#customer with the max time spending \n",
    "\n",
    "max_time_customer = df[df['Time on App'] == df['Time on App'].max()]\n",
    "\n",
    "max_spend_customer = df[df['Yearly Amount Spent'] == df['Yearly Amount Spent'].max()]\n"
   ]
  },
  {
   "cell_type": "code",
   "execution_count": 11,
   "id": "91379d82",
   "metadata": {},
   "outputs": [
    {
     "name": "stdout",
     "output_type": "stream",
     "text": [
      "Customer with max time\n",
      "             Email  Time on App  Yearly Amount Spent\n",
      "65  kyang@diaz.org    15.126994           765.518462\n",
      "\n",
      "             Email  Yearly Amount Spent  Length of Membership\n",
      "65  kyang@diaz.org           765.518462              5.377594\n"
     ]
    }
   ],
   "source": [
    "print(\"Customer with max time\")\n",
    "print(max_time_customer[['Email', 'Time on App', 'Yearly Amount Spent']])\n",
    "print(\"\")\n",
    "print(max_spend_customer[['Email','Yearly Amount Spent', 'Length of Membership']])"
   ]
  },
  {
   "cell_type": "code",
   "execution_count": 12,
   "id": "02cb4635",
   "metadata": {},
   "outputs": [
    {
     "name": "stdout",
     "output_type": "stream",
     "text": [
      "                Email  Time on App  Yearly Amount Spent\n",
      "309  dblair@gmail.com     8.508152           302.189548\n"
     ]
    }
   ],
   "source": [
    "#Customer with the minimum time and spending\n",
    "min_time_customer = df[df['Time on App'] == df['Time on App'].min()]\n",
    "print(min_time_customer[['Email', 'Time on App', 'Yearly Amount Spent']])"
   ]
  },
  {
   "cell_type": "code",
   "execution_count": 13,
   "id": "18d3a54e",
   "metadata": {},
   "outputs": [],
   "source": [
    "#states with maximum time and spending"
   ]
  },
  {
   "cell_type": "code",
   "execution_count": 14,
   "id": "67bdafe4",
   "metadata": {},
   "outputs": [
    {
     "data": {
      "text/plain": [
       "((500, 8),\n",
       " 4000,\n",
       " Index(['Email', 'Address', 'Avatar', 'Avg. Session Length', 'Time on App',\n",
       "        'Time on Website', 'Length of Membership', 'Yearly Amount Spent'],\n",
       "       dtype='object'))"
      ]
     },
     "execution_count": 14,
     "metadata": {},
     "output_type": "execute_result"
    }
   ],
   "source": [
    "df.shape, df.size, df.columns"
   ]
  },
  {
   "cell_type": "code",
   "execution_count": 15,
   "id": "fa4123cf",
   "metadata": {},
   "outputs": [
    {
     "data": {
      "text/plain": [
       "<bound method DataFrame.info of                              Email  \\\n",
       "0        mstephenson@fernandez.com   \n",
       "1                hduke@hotmail.com   \n",
       "2                 pallen@yahoo.com   \n",
       "3          riverarebecca@gmail.com   \n",
       "4    mstephens@davidson-herman.com   \n",
       "..                             ...   \n",
       "495   lewisjessica@craig-evans.com   \n",
       "496            katrina56@gmail.com   \n",
       "497             dale88@hotmail.com   \n",
       "498            cwilson@hotmail.com   \n",
       "499      hannahwilson@davidson.com   \n",
       "\n",
       "                                               Address            Avatar  \\\n",
       "0         835 Frank Tunnel\\nWrightmouth, MI 82180-9605            Violet   \n",
       "1       4547 Archer Common\\nDiazchester, CA 06566-8576         DarkGreen   \n",
       "2    24645 Valerie Unions Suite 582\\nCobbborough, D...            Bisque   \n",
       "3     1414 David Throughway\\nPort Jason, OH 22070-1220       SaddleBrown   \n",
       "4    14023 Rodriguez Passage\\nPort Jacobville, PR 3...  MediumAquaMarine   \n",
       "..                                                 ...               ...   \n",
       "495  4483 Jones Motorway Suite 872\\nLake Jamiefurt,...               Tan   \n",
       "496  172 Owen Divide Suite 497\\nWest Richard, CA 19320     PaleVioletRed   \n",
       "497  0787 Andrews Ranch Apt. 633\\nSouth Chadburgh, ...          Cornsilk   \n",
       "498  680 Jennifer Lodge Apt. 808\\nBrendachester, TX...              Teal   \n",
       "499  49791 Rachel Heights Apt. 898\\nEast Drewboroug...       DarkMagenta   \n",
       "\n",
       "     Avg. Session Length  Time on App  Time on Website  Length of Membership  \\\n",
       "0              34.497268    12.655651        39.577668              4.082621   \n",
       "1              31.926272    11.109461        37.268959              2.664034   \n",
       "2              33.000915    11.330278        37.110597              4.104543   \n",
       "3              34.305557    13.717514        36.721283              3.120179   \n",
       "4              33.330673    12.795189        37.536653              4.446308   \n",
       "..                   ...          ...              ...                   ...   \n",
       "495            33.237660    13.566160        36.417985              3.746573   \n",
       "496            34.702529    11.695736        37.190268              3.576526   \n",
       "497            32.646777    11.499409        38.332576              4.958264   \n",
       "498            33.322501    12.391423        36.840086              2.336485   \n",
       "499            33.715981    12.418808        35.771016              2.735160   \n",
       "\n",
       "     Yearly Amount Spent  \n",
       "0             587.951054  \n",
       "1             392.204933  \n",
       "2             487.547505  \n",
       "3             581.852344  \n",
       "4             599.406092  \n",
       "..                   ...  \n",
       "495           573.847438  \n",
       "496           529.049004  \n",
       "497           551.620145  \n",
       "498           456.469510  \n",
       "499           497.778642  \n",
       "\n",
       "[500 rows x 8 columns]>"
      ]
     },
     "execution_count": 15,
     "metadata": {},
     "output_type": "execute_result"
    }
   ],
   "source": [
    "df.info"
   ]
  },
  {
   "cell_type": "code",
   "execution_count": 16,
   "id": "5c3d2009",
   "metadata": {},
   "outputs": [
    {
     "data": {
      "text/html": [
       "<div>\n",
       "<style scoped>\n",
       "    .dataframe tbody tr th:only-of-type {\n",
       "        vertical-align: middle;\n",
       "    }\n",
       "\n",
       "    .dataframe tbody tr th {\n",
       "        vertical-align: top;\n",
       "    }\n",
       "\n",
       "    .dataframe thead th {\n",
       "        text-align: right;\n",
       "    }\n",
       "</style>\n",
       "<table border=\"1\" class=\"dataframe\">\n",
       "  <thead>\n",
       "    <tr style=\"text-align: right;\">\n",
       "      <th></th>\n",
       "      <th>Avg. Session Length</th>\n",
       "      <th>Time on App</th>\n",
       "      <th>Time on Website</th>\n",
       "      <th>Length of Membership</th>\n",
       "      <th>Yearly Amount Spent</th>\n",
       "    </tr>\n",
       "  </thead>\n",
       "  <tbody>\n",
       "    <tr>\n",
       "      <th>count</th>\n",
       "      <td>500.000000</td>\n",
       "      <td>500.000000</td>\n",
       "      <td>500.000000</td>\n",
       "      <td>500.000000</td>\n",
       "      <td>500.000000</td>\n",
       "    </tr>\n",
       "    <tr>\n",
       "      <th>mean</th>\n",
       "      <td>33.053194</td>\n",
       "      <td>12.052488</td>\n",
       "      <td>37.060445</td>\n",
       "      <td>3.533462</td>\n",
       "      <td>499.314038</td>\n",
       "    </tr>\n",
       "    <tr>\n",
       "      <th>std</th>\n",
       "      <td>0.992563</td>\n",
       "      <td>0.994216</td>\n",
       "      <td>1.010489</td>\n",
       "      <td>0.999278</td>\n",
       "      <td>79.314782</td>\n",
       "    </tr>\n",
       "    <tr>\n",
       "      <th>min</th>\n",
       "      <td>29.532429</td>\n",
       "      <td>8.508152</td>\n",
       "      <td>33.913847</td>\n",
       "      <td>0.269901</td>\n",
       "      <td>256.670582</td>\n",
       "    </tr>\n",
       "    <tr>\n",
       "      <th>25%</th>\n",
       "      <td>32.341822</td>\n",
       "      <td>11.388153</td>\n",
       "      <td>36.349257</td>\n",
       "      <td>2.930450</td>\n",
       "      <td>445.038277</td>\n",
       "    </tr>\n",
       "    <tr>\n",
       "      <th>50%</th>\n",
       "      <td>33.082008</td>\n",
       "      <td>11.983231</td>\n",
       "      <td>37.069367</td>\n",
       "      <td>3.533975</td>\n",
       "      <td>498.887875</td>\n",
       "    </tr>\n",
       "    <tr>\n",
       "      <th>75%</th>\n",
       "      <td>33.711985</td>\n",
       "      <td>12.753850</td>\n",
       "      <td>37.716432</td>\n",
       "      <td>4.126502</td>\n",
       "      <td>549.313828</td>\n",
       "    </tr>\n",
       "    <tr>\n",
       "      <th>max</th>\n",
       "      <td>36.139662</td>\n",
       "      <td>15.126994</td>\n",
       "      <td>40.005182</td>\n",
       "      <td>6.922689</td>\n",
       "      <td>765.518462</td>\n",
       "    </tr>\n",
       "  </tbody>\n",
       "</table>\n",
       "</div>"
      ],
      "text/plain": [
       "       Avg. Session Length  Time on App  Time on Website  \\\n",
       "count           500.000000   500.000000       500.000000   \n",
       "mean             33.053194    12.052488        37.060445   \n",
       "std               0.992563     0.994216         1.010489   \n",
       "min              29.532429     8.508152        33.913847   \n",
       "25%              32.341822    11.388153        36.349257   \n",
       "50%              33.082008    11.983231        37.069367   \n",
       "75%              33.711985    12.753850        37.716432   \n",
       "max              36.139662    15.126994        40.005182   \n",
       "\n",
       "       Length of Membership  Yearly Amount Spent  \n",
       "count            500.000000           500.000000  \n",
       "mean               3.533462           499.314038  \n",
       "std                0.999278            79.314782  \n",
       "min                0.269901           256.670582  \n",
       "25%                2.930450           445.038277  \n",
       "50%                3.533975           498.887875  \n",
       "75%                4.126502           549.313828  \n",
       "max                6.922689           765.518462  "
      ]
     },
     "execution_count": 16,
     "metadata": {},
     "output_type": "execute_result"
    }
   ],
   "source": [
    "#mean,max,min,std,quantities etc\n",
    "df.describe()"
   ]
  },
  {
   "cell_type": "code",
   "execution_count": 17,
   "id": "b5608041",
   "metadata": {},
   "outputs": [
    {
     "data": {
      "text/plain": [
       "<Axes: >"
      ]
     },
     "execution_count": 17,
     "metadata": {},
     "output_type": "execute_result"
    },
    {
     "data": {
      "image/png": "[encoded data removed]",
      "text/plain": [
       "<Figure size 640x480 with 2 Axes>"
      ]
     },
     "metadata": {},
     "output_type": "display_data"
    }
   ],
   "source": [
    "#correlation \n",
    "sns.heatmap(df[df.columns[3:]].corr(), cmap=\"crest\",annot= True)"
   ]
  },
  {
   "cell_type": "code",
   "execution_count": 18,
   "id": "8cca7211",
   "metadata": {},
   "outputs": [
    {
     "data": {
      "image/png": "[encoded data removed]",
      "text/plain": [
       "<Figure size 1000x500 with 6 Axes>"
      ]
     },
     "metadata": {},
     "output_type": "display_data"
    }
   ],
   "source": [
    "#Data Distribution Boxplots\n",
    "\n",
    "fig, axes = plt.subplots(nrows = 2, ncols =3, figsize=(10, 5), sharey = True)\n",
    "\n",
    "\n",
    "for index, column in enumerate(df.columns[3:]):\n",
    "    sns.boxplot(data = df, x = column, ax = axes[int(index/3), index % 3])\n",
    "    \n",
    "plt.tight_layout()    \n",
    "    "
   ]
  },
  {
   "cell_type": "code",
   "execution_count": 19,
   "id": "f553775b",
   "metadata": {},
   "outputs": [
    {
     "data": {
      "image/png": "[encoded data removed]",
      "text/plain": [
       "<Figure size 1000x500 with 6 Axes>"
      ]
     },
     "metadata": {},
     "output_type": "display_data"
    }
   ],
   "source": [
    "fig, axes = plt.subplots(nrows=2, ncols=3, figsize=(10, 5), sharey=True)\n",
    "\n",
    "for index, column in enumerate(df.columns[3:]):\n",
    "    sns.histplot(data=df, x=column, ax=axes[int(index/3), index % 3], kde=True, bins=20, color='skyblue')\n",
    "\n",
    "plt.tight_layout()\n",
    "plt.show()\n"
   ]
  },
  {
   "cell_type": "code",
   "execution_count": 20,
   "id": "6a2673e0",
   "metadata": {},
   "outputs": [
    {
     "name": "stdout",
     "output_type": "stream",
     "text": [
      "Nan values: 0\n",
      "Null values: 0\n"
     ]
    },
    {
     "data": {
      "text/plain": [
       "<Axes: >"
      ]
     },
     "execution_count": 20,
     "metadata": {},
     "output_type": "execute_result"
    },
    {
     "data": {
      "image/png": "[encoded data removed]",
      "text/plain": [
       "<Figure size 640x480 with 2 Axes>"
      ]
     },
     "metadata": {},
     "output_type": "display_data"
    }
   ],
   "source": [
    "print(f\"Nan values: {df.isna().sum(axis =1).sum()}\")\n",
    "      \n",
    "print(f\"Null values: {df.isnull().sum(axis=1).sum()}\")\n",
    "      \n",
    "sns.heatmap (df.isnull()* df.isna(), cmap = \"crest\")      "
   ]
  },
  {
   "cell_type": "code",
   "execution_count": 21,
   "id": "a726ddae",
   "metadata": {},
   "outputs": [
    {
     "name": "stdout",
     "output_type": "stream",
     "text": [
      "                                             Address State  Total Time\n",
      "0       835 Frank Tunnel\\nWrightmouth, MI 82180-9605    MI   52.233319\n",
      "1     4547 Archer Common\\nDiazchester, CA 06566-8576    CA   48.378420\n",
      "2  24645 Valerie Unions Suite 582\\nCobbborough, D...    DC   48.440875\n",
      "3   1414 David Throughway\\nPort Jason, OH 22070-1220    OH   50.438796\n",
      "4  14023 Rodriguez Passage\\nPort Jacobville, PR 3...    PR   50.331842\n"
     ]
    }
   ],
   "source": [
    "# Total time spent on app and website\n",
    "df['Total Time'] = df['Time on App'] + df['Time on Website']\n",
    "\n",
    "# Extract state abbreviation from the address\n",
    "df['State'] = df['Address'].str.extract(r', ([A-Z]{2}) ')\n",
    "\n",
    "# Display a preview to confirm\n",
    "print(df[['Address', 'State', 'Total Time']].head())\n"
   ]
  },
  {
   "cell_type": "code",
   "execution_count": 22,
   "id": "ab7dfafb",
   "metadata": {},
   "outputs": [
    {
     "name": "stdout",
     "output_type": "stream",
     "text": [
      "📧 Email Domain Counts:\n",
      "Email Domain\n",
      "gmail.com              87\n",
      "hotmail.com            87\n",
      "yahoo.com              76\n",
      "jackson.com             2\n",
      "barber.com              2\n",
      "                       ..\n",
      "salinas.biz             1\n",
      "carson-hansen.com       1\n",
      "scott.com               1\n",
      "bennett-branch.info     1\n",
      "davidson.com            1\n",
      "Name: count, Length: 244, dtype: int64\n",
      "\n",
      "📍 State Counts:\n",
      "State\n",
      "MO    13\n",
      "DE    13\n",
      "SC    13\n",
      "VT    12\n",
      "OR    12\n",
      "      ..\n",
      "MP     5\n",
      "UT     5\n",
      "TN     5\n",
      "WA     4\n",
      "ID     3\n",
      "Name: count, Length: 59, dtype: int64\n"
     ]
    }
   ],
   "source": [
    "# Extract email domain (e.g., gmail.com, hotmail.com)\n",
    "df['Email Domain'] = df['Email'].str.split('@').str[1]\n",
    "\n",
    "# Count occurrences of each email domain\n",
    "email_counts = df['Email Domain'].value_counts()\n",
    "\n",
    "# Optional: show email counts and state counts side by side\n",
    "print(\"📧 Email Domain Counts:\")\n",
    "print(email_counts)\n",
    "\n",
    "print(\"\\n📍 State Counts:\")\n",
    "print(df['State'].value_counts())\n"
   ]
  },
  {
   "cell_type": "code",
   "execution_count": 23,
   "id": "cc89cc7b",
   "metadata": {
    "scrolled": true
   },
   "outputs": [
    {
     "name": "stdout",
     "output_type": "stream",
     "text": [
      "Highest Spender:\n"
     ]
    },
    {
     "data": {
      "text/plain": [
       "Email                  kyang@diaz.org\n",
       "Yearly Amount Spent        765.518462\n",
       "Time on App                 15.126994\n",
       "Time on Website             37.157624\n",
       "Name: 65, dtype: object"
      ]
     },
     "metadata": {},
     "output_type": "display_data"
    }
   ],
   "source": [
    "#Customer with max time spending\n",
    "top_spender = df.loc[df['Yearly Amount Spent'].idxmax(), ['Email', 'Yearly Amount Spent', 'Time on App', 'Time on Website']]\n",
    "print(\"Highest Spender:\")\n",
    "display(top_spender)"
   ]
  },
  {
   "cell_type": "code",
   "execution_count": 24,
   "id": "143d7b7c",
   "metadata": {},
   "outputs": [
    {
     "name": "stdout",
     "output_type": "stream",
     "text": [
      "Least Spender: \n"
     ]
    },
    {
     "data": {
      "text/plain": [
       "Email                  alexandra26@summers-davis.com\n",
       "Yearly Amount Spent                       256.670582\n",
       "Time on App                                10.256549\n",
       "Time on Website                            36.143908\n",
       "Name: 225, dtype: object"
      ]
     },
     "metadata": {},
     "output_type": "display_data"
    }
   ],
   "source": [
    "#Customers with min time and spending\n",
    "less_spender =df.loc[df['Yearly Amount Spent'].idxmin(),['Email','Yearly Amount Spent','Time on App','Time on Website']]\n",
    "print(\"Least Spender: \")\n",
    "display(less_spender)"
   ]
  },
  {
   "cell_type": "code",
   "execution_count": 25,
   "id": "3a063da0",
   "metadata": {},
   "outputs": [
    {
     "data": {
      "text/plain": [
       "Avg. Session Length            nathan86@hotmail.com\n",
       "Time on App                          kyang@diaz.org\n",
       "Time on Website         davisrobert@hicks-smith.com\n",
       "Length of Membership               asilva@yahoo.com\n",
       "Yearly Amount Spent                  kyang@diaz.org\n",
       "Total Time                       pkline@hotmail.com\n",
       "dtype: object"
      ]
     },
     "execution_count": 25,
     "metadata": {},
     "output_type": "execute_result"
    }
   ],
   "source": [
    "#Customer with max time spending\n",
    "s=df.select_dtypes(np.number).idxmax()\n",
    "pd.Series(data=df.loc[s]['Email'].values,index=s.index)"
   ]
  },
  {
   "cell_type": "code",
   "execution_count": 26,
   "id": "054595ca",
   "metadata": {},
   "outputs": [
    {
     "data": {
      "text/plain": [
       "Avg. Session Length                 knelson@gmail.com\n",
       "Time on App                          dblair@gmail.com\n",
       "Time on Website                      asilva@yahoo.com\n",
       "Length of Membership           sharongraves@yahoo.com\n",
       "Yearly Amount Spent     alexandra26@summers-davis.com\n",
       "Total Time                           dblair@gmail.com\n",
       "dtype: object"
      ]
     },
     "execution_count": 26,
     "metadata": {},
     "output_type": "execute_result"
    }
   ],
   "source": [
    "#Customers with min time and spending\n",
    "s=df.select_dtypes(np.number).idxmin()\n",
    "pd.Series(data=df.loc[s]['Email'].values,index=s.index)"
   ]
  },
  {
   "cell_type": "code",
   "execution_count": 27,
   "id": "bdf0b6c4",
   "metadata": {},
   "outputs": [
    {
     "data": {
      "text/plain": [
       "Email                   MP\n",
       "Address                 OR\n",
       "Avatar                  ID\n",
       "Avg. Session Length     DE\n",
       "Time on App             MO\n",
       "Time on Website         MO\n",
       "Length of Membership    SC\n",
       "Yearly Amount Spent     SC\n",
       "Total Time              MO\n",
       "Email Domain            WV\n",
       "dtype: object"
      ]
     },
     "execution_count": 27,
     "metadata": {},
     "output_type": "execute_result"
    }
   ],
   "source": [
    "# States with the max time and spending\n",
    "df.groupby(by='State').sum().idxmax()"
   ]
  },
  {
   "cell_type": "code",
   "execution_count": 28,
   "id": "67fb2718",
   "metadata": {},
   "outputs": [
    {
     "data": {
      "text/plain": [
       "Email                   OK\n",
       "Address                 AL\n",
       "Avatar                  WI\n",
       "Avg. Session Length     ID\n",
       "Time on App             ID\n",
       "Time on Website         ID\n",
       "Length of Membership    ID\n",
       "Yearly Amount Spent     ID\n",
       "Total Time              ID\n",
       "Email Domain            AZ\n",
       "dtype: object"
      ]
     },
     "execution_count": 28,
     "metadata": {},
     "output_type": "execute_result"
    }
   ],
   "source": [
    "# States with the min time and spending\n",
    "df.groupby(by='State').sum().idxmin()"
   ]
  },
  {
   "cell_type": "code",
   "execution_count": 29,
   "id": "2178a148",
   "metadata": {},
   "outputs": [
    {
     "data": {
      "text/plain": [
       "Avg. Session Length      0.992563\n",
       "Time on App              0.994216\n",
       "Time on Website          1.010489\n",
       "Length of Membership     0.999278\n",
       "Yearly Amount Spent     79.314782\n",
       "Total Time               1.474820\n",
       "Name: std, dtype: float64"
      ]
     },
     "execution_count": 29,
     "metadata": {},
     "output_type": "execute_result"
    }
   ],
   "source": [
    "# Differences between customers over spending time and money\n",
    "df.describe().loc['std',:]"
   ]
  },
  {
   "cell_type": "code",
   "execution_count": 30,
   "id": "0a024f2a",
   "metadata": {},
   "outputs": [
    {
     "data": {
      "text/plain": [
       "Avg. Session Length      33.053194\n",
       "Time on App              12.052488\n",
       "Time on Website          37.060445\n",
       "Length of Membership      3.533462\n",
       "Yearly Amount Spent     499.314038\n",
       "Total Time               49.112933\n",
       "Name: mean, dtype: float64"
      ]
     },
     "execution_count": 30,
     "metadata": {},
     "output_type": "execute_result"
    }
   ],
   "source": [
    "df.describe().loc['mean',:]"
   ]
  },
  {
   "cell_type": "code",
   "execution_count": 31,
   "id": "bbd1bad8",
   "metadata": {},
   "outputs": [
    {
     "data": {
      "text/plain": [
       "Avg. Session Length      3.002927\n",
       "Time on App              8.249049\n",
       "Time on Website          2.726597\n",
       "Length of Membership    28.280412\n",
       "Yearly Amount Spent     15.884749\n",
       "Total Time               3.002916\n",
       "dtype: float64"
      ]
     },
     "execution_count": 31,
     "metadata": {},
     "output_type": "execute_result"
    }
   ],
   "source": [
    "#differences between customer over spending time and money : coefficient of variation\n",
    "df.describe().loc['std',:]/df.describe().loc['mean',:]*100"
   ]
  },
  {
   "cell_type": "code",
   "execution_count": 32,
   "id": "8db53aac",
   "metadata": {},
   "outputs": [
    {
     "data": {
      "text/plain": [
       "Avg. Session Length      0.410814\n",
       "Time on App              0.342837\n",
       "Time on Website          0.362703\n",
       "Length of Membership     0.422517\n",
       "Yearly Amount Spent     31.144402\n",
       "Total Time               0.546679\n",
       "dtype: float64"
      ]
     },
     "execution_count": 32,
     "metadata": {},
     "output_type": "execute_result"
    }
   ],
   "source": [
    "#Differences between state over spending time and money\n",
    "state_means=df[df.columns[3:-1]].groupby(by='State').mean().std(axis=0)\n",
    "state_means"
   ]
  },
  {
   "cell_type": "code",
   "execution_count": 33,
   "id": "efe369fb",
   "metadata": {},
   "outputs": [],
   "source": [
    "#Differences between state over spending time and money: coefficient of variation\n",
    "state_var=state_means.std()/state_means.mean() *100"
   ]
  },
  {
   "cell_type": "code",
   "execution_count": 34,
   "id": "8970342b",
   "metadata": {},
   "outputs": [
    {
     "data": {
      "text/plain": [
       "226.5046836762114"
      ]
     },
     "execution_count": 34,
     "metadata": {},
     "output_type": "execute_result"
    }
   ],
   "source": [
    "state_var"
   ]
  },
  {
   "cell_type": "code",
   "execution_count": 35,
   "id": "c4a6b771",
   "metadata": {},
   "outputs": [],
   "source": [
    "state_var2=state_means/df[df.columns[3:-1]].groupby(by='State').mean().mean(axis=0)*100"
   ]
  },
  {
   "cell_type": "code",
   "execution_count": 36,
   "id": "abf15f24",
   "metadata": {},
   "outputs": [
    {
     "data": {
      "text/plain": [
       "Avg. Session Length      1.243615\n",
       "Time on App              2.841438\n",
       "Time on Website          0.979353\n",
       "Length of Membership    11.952333\n",
       "Yearly Amount Spent      6.233234\n",
       "Total Time               1.113386\n",
       "dtype: float64"
      ]
     },
     "execution_count": 36,
     "metadata": {},
     "output_type": "execute_result"
    }
   ],
   "source": [
    "state_var2"
   ]
  },
  {
   "cell_type": "code",
   "execution_count": 37,
   "id": "676b862d",
   "metadata": {},
   "outputs": [],
   "source": [
    "#top 5 states spending on App\n",
    "top_spender=df.groupby('State').sum().sort_values(by='Time on App',ascending=False)['Time on App'].head()"
   ]
  },
  {
   "cell_type": "code",
   "execution_count": 38,
   "id": "498abbe9",
   "metadata": {},
   "outputs": [
    {
     "data": {
      "text/plain": [
       "State\n",
       "MO    156.271069\n",
       "DE    154.928321\n",
       "SC    154.071771\n",
       "VT    147.647950\n",
       "OR    141.884683\n",
       "Name: Time on App, dtype: float64"
      ]
     },
     "execution_count": 38,
     "metadata": {},
     "output_type": "execute_result"
    }
   ],
   "source": [
    "top_spender"
   ]
  },
  {
   "cell_type": "code",
   "execution_count": 39,
   "id": "75da0c9e",
   "metadata": {},
   "outputs": [],
   "source": [
    "#top 5 customerz spending time on App\n",
    "top_customers_app_time = df.sort_values(by='Time on App', ascending=False)[['Email', 'Time on App', 'State']].head(5)\n",
    "\n"
   ]
  },
  {
   "cell_type": "code",
   "execution_count": 40,
   "id": "b0b1cc69",
   "metadata": {},
   "outputs": [
    {
     "data": {
      "text/html": [
       "<div>\n",
       "<style scoped>\n",
       "    .dataframe tbody tr th:only-of-type {\n",
       "        vertical-align: middle;\n",
       "    }\n",
       "\n",
       "    .dataframe tbody tr th {\n",
       "        vertical-align: top;\n",
       "    }\n",
       "\n",
       "    .dataframe thead th {\n",
       "        text-align: right;\n",
       "    }\n",
       "</style>\n",
       "<table border=\"1\" class=\"dataframe\">\n",
       "  <thead>\n",
       "    <tr style=\"text-align: right;\">\n",
       "      <th></th>\n",
       "      <th>Email</th>\n",
       "      <th>Time on App</th>\n",
       "      <th>State</th>\n",
       "    </tr>\n",
       "  </thead>\n",
       "  <tbody>\n",
       "    <tr>\n",
       "      <th>65</th>\n",
       "      <td>kyang@diaz.org</td>\n",
       "      <td>15.126994</td>\n",
       "      <td>IN</td>\n",
       "    </tr>\n",
       "    <tr>\n",
       "      <th>18</th>\n",
       "      <td>alejandro75@hotmail.com</td>\n",
       "      <td>14.715388</td>\n",
       "      <td>PW</td>\n",
       "    </tr>\n",
       "    <tr>\n",
       "      <th>260</th>\n",
       "      <td>george02@hotmail.com</td>\n",
       "      <td>14.426491</td>\n",
       "      <td>RI</td>\n",
       "    </tr>\n",
       "    <tr>\n",
       "      <th>286</th>\n",
       "      <td>bhill@pierce-kane.info</td>\n",
       "      <td>14.325655</td>\n",
       "      <td>OK</td>\n",
       "    </tr>\n",
       "    <tr>\n",
       "      <th>340</th>\n",
       "      <td>vancealicia@hotmail.com</td>\n",
       "      <td>14.288015</td>\n",
       "      <td>NH</td>\n",
       "    </tr>\n",
       "  </tbody>\n",
       "</table>\n",
       "</div>"
      ],
      "text/plain": [
       "                       Email  Time on App State\n",
       "65            kyang@diaz.org    15.126994    IN\n",
       "18   alejandro75@hotmail.com    14.715388    PW\n",
       "260     george02@hotmail.com    14.426491    RI\n",
       "286   bhill@pierce-kane.info    14.325655    OK\n",
       "340  vancealicia@hotmail.com    14.288015    NH"
      ]
     },
     "execution_count": 40,
     "metadata": {},
     "output_type": "execute_result"
    }
   ],
   "source": [
    "top_customers_app_time"
   ]
  },
  {
   "cell_type": "code",
   "execution_count": 41,
   "id": "d013961b",
   "metadata": {},
   "outputs": [
    {
     "data": {
      "text/plain": [
       "Email                    0\n",
       "Address                  0\n",
       "Avatar                   0\n",
       "Avg. Session Length      0\n",
       "Time on App              0\n",
       "Time on Website          0\n",
       "Length of Membership     0\n",
       "Yearly Amount Spent      0\n",
       "Total Time               0\n",
       "State                   46\n",
       "Email Domain             0\n",
       "dtype: int64"
      ]
     },
     "execution_count": 41,
     "metadata": {},
     "output_type": "execute_result"
    }
   ],
   "source": [
    "df.isnull().sum()"
   ]
  },
  {
   "cell_type": "code",
   "execution_count": 42,
   "id": "a7277461",
   "metadata": {},
   "outputs": [],
   "source": [
    "X=df[['Avg. Session Length', 'Time on App', 'Time on Website', 'Length of Membership']]\n",
    "y=df[['Yearly Amount Spent']]\n"
   ]
  },
  {
   "cell_type": "code",
   "execution_count": 43,
   "id": "4cef2b30",
   "metadata": {},
   "outputs": [],
   "source": [
    "from sklearn.model_selection import train_test_split\n",
    "X_train,X_test,y_train,y_test=train_test_split(X,y,test_size=0.2,random_state=42)"
   ]
  },
  {
   "cell_type": "code",
   "execution_count": 44,
   "id": "f72b28da",
   "metadata": {},
   "outputs": [
    {
     "data": {
      "text/html": [
       "<div>\n",
       "<style scoped>\n",
       "    .dataframe tbody tr th:only-of-type {\n",
       "        vertical-align: middle;\n",
       "    }\n",
       "\n",
       "    .dataframe tbody tr th {\n",
       "        vertical-align: top;\n",
       "    }\n",
       "\n",
       "    .dataframe thead th {\n",
       "        text-align: right;\n",
       "    }\n",
       "</style>\n",
       "<table border=\"1\" class=\"dataframe\">\n",
       "  <thead>\n",
       "    <tr style=\"text-align: right;\">\n",
       "      <th></th>\n",
       "      <th>Avg. Session Length</th>\n",
       "      <th>Time on App</th>\n",
       "      <th>Time on Website</th>\n",
       "      <th>Length of Membership</th>\n",
       "    </tr>\n",
       "  </thead>\n",
       "  <tbody>\n",
       "    <tr>\n",
       "      <th>249</th>\n",
       "      <td>33.780157</td>\n",
       "      <td>11.917636</td>\n",
       "      <td>36.844734</td>\n",
       "      <td>3.634996</td>\n",
       "    </tr>\n",
       "    <tr>\n",
       "      <th>433</th>\n",
       "      <td>34.278248</td>\n",
       "      <td>11.822722</td>\n",
       "      <td>36.308545</td>\n",
       "      <td>2.117383</td>\n",
       "    </tr>\n",
       "    <tr>\n",
       "      <th>19</th>\n",
       "      <td>32.617856</td>\n",
       "      <td>13.989593</td>\n",
       "      <td>37.190504</td>\n",
       "      <td>4.064549</td>\n",
       "    </tr>\n",
       "    <tr>\n",
       "      <th>322</th>\n",
       "      <td>33.264632</td>\n",
       "      <td>10.732131</td>\n",
       "      <td>36.145792</td>\n",
       "      <td>4.086566</td>\n",
       "    </tr>\n",
       "    <tr>\n",
       "      <th>332</th>\n",
       "      <td>33.144234</td>\n",
       "      <td>11.737041</td>\n",
       "      <td>37.935189</td>\n",
       "      <td>2.190132</td>\n",
       "    </tr>\n",
       "    <tr>\n",
       "      <th>...</th>\n",
       "      <td>...</td>\n",
       "      <td>...</td>\n",
       "      <td>...</td>\n",
       "      <td>...</td>\n",
       "    </tr>\n",
       "    <tr>\n",
       "      <th>106</th>\n",
       "      <td>32.291756</td>\n",
       "      <td>12.190474</td>\n",
       "      <td>36.152462</td>\n",
       "      <td>3.781823</td>\n",
       "    </tr>\n",
       "    <tr>\n",
       "      <th>270</th>\n",
       "      <td>34.006489</td>\n",
       "      <td>12.956277</td>\n",
       "      <td>38.655095</td>\n",
       "      <td>3.275734</td>\n",
       "    </tr>\n",
       "    <tr>\n",
       "      <th>348</th>\n",
       "      <td>31.812483</td>\n",
       "      <td>10.886921</td>\n",
       "      <td>34.897828</td>\n",
       "      <td>3.128639</td>\n",
       "    </tr>\n",
       "    <tr>\n",
       "      <th>435</th>\n",
       "      <td>32.259973</td>\n",
       "      <td>14.132893</td>\n",
       "      <td>37.023479</td>\n",
       "      <td>3.762070</td>\n",
       "    </tr>\n",
       "    <tr>\n",
       "      <th>102</th>\n",
       "      <td>32.425697</td>\n",
       "      <td>11.448902</td>\n",
       "      <td>37.580190</td>\n",
       "      <td>2.586968</td>\n",
       "    </tr>\n",
       "  </tbody>\n",
       "</table>\n",
       "<p>400 rows × 4 columns</p>\n",
       "</div>"
      ],
      "text/plain": [
       "     Avg. Session Length  Time on App  Time on Website  Length of Membership\n",
       "249            33.780157    11.917636        36.844734              3.634996\n",
       "433            34.278248    11.822722        36.308545              2.117383\n",
       "19             32.617856    13.989593        37.190504              4.064549\n",
       "322            33.264632    10.732131        36.145792              4.086566\n",
       "332            33.144234    11.737041        37.935189              2.190132\n",
       "..                   ...          ...              ...                   ...\n",
       "106            32.291756    12.190474        36.152462              3.781823\n",
       "270            34.006489    12.956277        38.655095              3.275734\n",
       "348            31.812483    10.886921        34.897828              3.128639\n",
       "435            32.259973    14.132893        37.023479              3.762070\n",
       "102            32.425697    11.448902        37.580190              2.586968\n",
       "\n",
       "[400 rows x 4 columns]"
      ]
     },
     "execution_count": 44,
     "metadata": {},
     "output_type": "execute_result"
    }
   ],
   "source": [
    "X_train"
   ]
  },
  {
   "cell_type": "code",
   "execution_count": 45,
   "id": "abc63e3b",
   "metadata": {},
   "outputs": [],
   "source": [
    "from sklearn.linear_model import LinearRegression"
   ]
  },
  {
   "cell_type": "code",
   "execution_count": 46,
   "id": "121bc117",
   "metadata": {},
   "outputs": [
    {
     "data": {
      "text/html": [
       "<style>#sk-container-id-1 {color: black;}#sk-container-id-1 pre{padding: 0;}#sk-container-id-1 div.sk-toggleable {background-color: white;}#sk-container-id-1 label.sk-toggleable__label {cursor: pointer;display: block;width: 100%;margin-bottom: 0;padding: 0.3em;box-sizing: border-box;text-align: center;}#sk-container-id-1 label.sk-toggleable__label-arrow:before {content: \"▸\";float: left;margin-right: 0.25em;color: #696969;}#sk-container-id-1 label.sk-toggleable__label-arrow:hover:before {color: black;}#sk-container-id-1 div.sk-estimator:hover label.sk-toggleable__label-arrow:before {color: black;}#sk-container-id-1 div.sk-toggleable__content {max-height: 0;max-width: 0;overflow: hidden;text-align: left;background-color: #f0f8ff;}#sk-container-id-1 div.sk-toggleable__content pre {margin: 0.2em;color: black;border-radius: 0.25em;background-color: #f0f8ff;}#sk-container-id-1 input.sk-toggleable__control:checked~div.sk-toggleable__content {max-height: 200px;max-width: 100%;overflow: auto;}#sk-container-id-1 input.sk-toggleable__control:checked~label.sk-toggleable__label-arrow:before {content: \"▾\";}#sk-container-id-1 div.sk-estimator input.sk-toggleable__control:checked~label.sk-toggleable__label {background-color: #d4ebff;}#sk-container-id-1 div.sk-label input.sk-toggleable__control:checked~label.sk-toggleable__label {background-color: #d4ebff;}#sk-container-id-1 input.sk-hidden--visually {border: 0;clip: rect(1px 1px 1px 1px);clip: rect(1px, 1px, 1px, 1px);height: 1px;margin: -1px;overflow: hidden;padding: 0;position: absolute;width: 1px;}#sk-container-id-1 div.sk-estimator {font-family: monospace;background-color: #f0f8ff;border: 1px dotted black;border-radius: 0.25em;box-sizing: border-box;margin-bottom: 0.5em;}#sk-container-id-1 div.sk-estimator:hover {background-color: #d4ebff;}#sk-container-id-1 div.sk-parallel-item::after {content: \"\";width: 100%;border-bottom: 1px solid gray;flex-grow: 1;}#sk-container-id-1 div.sk-label:hover label.sk-toggleable__label {background-color: #d4ebff;}#sk-container-id-1 div.sk-serial::before {content: \"\";position: absolute;border-left: 1px solid gray;box-sizing: border-box;top: 0;bottom: 0;left: 50%;z-index: 0;}#sk-container-id-1 div.sk-serial {display: flex;flex-direction: column;align-items: center;background-color: white;padding-right: 0.2em;padding-left: 0.2em;position: relative;}#sk-container-id-1 div.sk-item {position: relative;z-index: 1;}#sk-container-id-1 div.sk-parallel {display: flex;align-items: stretch;justify-content: center;background-color: white;position: relative;}#sk-container-id-1 div.sk-item::before, #sk-container-id-1 div.sk-parallel-item::before {content: \"\";position: absolute;border-left: 1px solid gray;box-sizing: border-box;top: 0;bottom: 0;left: 50%;z-index: -1;}#sk-container-id-1 div.sk-parallel-item {display: flex;flex-direction: column;z-index: 1;position: relative;background-color: white;}#sk-container-id-1 div.sk-parallel-item:first-child::after {align-self: flex-end;width: 50%;}#sk-container-id-1 div.sk-parallel-item:last-child::after {align-self: flex-start;width: 50%;}#sk-container-id-1 div.sk-parallel-item:only-child::after {width: 0;}#sk-container-id-1 div.sk-dashed-wrapped {border: 1px dashed gray;margin: 0 0.4em 0.5em 0.4em;box-sizing: border-box;padding-bottom: 0.4em;background-color: white;}#sk-container-id-1 div.sk-label label {font-family: monospace;font-weight: bold;display: inline-block;line-height: 1.2em;}#sk-container-id-1 div.sk-label-container {text-align: center;}#sk-container-id-1 div.sk-container {/* jupyter's `normalize.less` sets `[hidden] { display: none; }` but bootstrap.min.css set `[hidden] { display: none !important; }` so we also need the `!important` here to be able to override the default hidden behavior on the sphinx rendered scikit-learn.org. See: https://github.com/scikit-learn/scikit-learn/issues/21755 */display: inline-block !important;position: relative;}#sk-container-id-1 div.sk-text-repr-fallback {display: none;}</style><div id=\"sk-container-id-1\" class=\"sk-top-container\"><div class=\"sk-text-repr-fallback\"><pre>LinearRegression()</pre><b>In a Jupyter environment, please rerun this cell to show the HTML representation or trust the notebook. <br />On GitHub, the HTML representation is unable to render, please try loading this page with nbviewer.org.</b></div><div class=\"sk-container\" hidden><div class=\"sk-item\"><div class=\"sk-estimator sk-toggleable\"><input class=\"sk-toggleable__control sk-hidden--visually\" id=\"sk-estimator-id-1\" type=\"checkbox\" checked><label for=\"sk-estimator-id-1\" class=\"sk-toggleable__label sk-toggleable__label-arrow\">LinearRegression</label><div class=\"sk-toggleable__content\"><pre>LinearRegression()</pre></div></div></div></div></div>"
      ],
      "text/plain": [
       "LinearRegression()"
      ]
     },
     "execution_count": 46,
     "metadata": {},
     "output_type": "execute_result"
    }
   ],
   "source": [
    "lr = LinearRegression()\n",
    "lr.fit(X_train, y_train)\n"
   ]
  },
  {
   "cell_type": "code",
   "execution_count": 47,
   "id": "ef3233e5",
   "metadata": {},
   "outputs": [],
   "source": [
    "y_pred = lr.predict(X_test)\n"
   ]
  },
  {
   "cell_type": "code",
   "execution_count": 48,
   "id": "d448f6ab",
   "metadata": {},
   "outputs": [],
   "source": [
    "from sklearn.metrics import r2_score\n",
    "\n",
    "y_pred = lr.predict(X_test)\n",
    "r2 = r2_score(y_test, y_pred)\n",
    "\n"
   ]
  },
  {
   "cell_type": "code",
   "execution_count": 49,
   "id": "5711065e",
   "metadata": {},
   "outputs": [
    {
     "data": {
      "text/plain": [
       "0.9778130629184126"
      ]
     },
     "execution_count": 49,
     "metadata": {},
     "output_type": "execute_result"
    }
   ],
   "source": [
    "r2\n",
    "\n"
   ]
  },
  {
   "cell_type": "code",
   "execution_count": 50,
   "id": "50860db3",
   "metadata": {},
   "outputs": [],
   "source": [
    "X=df[['Length of Membership','Time on App']]\n",
    "y=df[['Yearly Amount Spent']]"
   ]
  },
  {
   "cell_type": "code",
   "execution_count": 51,
   "id": "cb17ef32",
   "metadata": {},
   "outputs": [],
   "source": [
    "from sklearn.model_selection import train_test_split\n",
    "X_train,X_test,y_train,y_test=train_test_split(X,y,test_size=0.2,random_state=42)"
   ]
  },
  {
   "cell_type": "code",
   "execution_count": 52,
   "id": "d384625c",
   "metadata": {},
   "outputs": [],
   "source": [
    "from sklearn.linear_model import LinearRegression"
   ]
  },
  {
   "cell_type": "code",
   "execution_count": 53,
   "id": "85ad29a2",
   "metadata": {},
   "outputs": [
    {
     "data": {
      "text/html": [
       "<style>#sk-container-id-2 {color: black;}#sk-container-id-2 pre{padding: 0;}#sk-container-id-2 div.sk-toggleable {background-color: white;}#sk-container-id-2 label.sk-toggleable__label {cursor: pointer;display: block;width: 100%;margin-bottom: 0;padding: 0.3em;box-sizing: border-box;text-align: center;}#sk-container-id-2 label.sk-toggleable__label-arrow:before {content: \"▸\";float: left;margin-right: 0.25em;color: #696969;}#sk-container-id-2 label.sk-toggleable__label-arrow:hover:before {color: black;}#sk-container-id-2 div.sk-estimator:hover label.sk-toggleable__label-arrow:before {color: black;}#sk-container-id-2 div.sk-toggleable__content {max-height: 0;max-width: 0;overflow: hidden;text-align: left;background-color: #f0f8ff;}#sk-container-id-2 div.sk-toggleable__content pre {margin: 0.2em;color: black;border-radius: 0.25em;background-color: #f0f8ff;}#sk-container-id-2 input.sk-toggleable__control:checked~div.sk-toggleable__content {max-height: 200px;max-width: 100%;overflow: auto;}#sk-container-id-2 input.sk-toggleable__control:checked~label.sk-toggleable__label-arrow:before {content: \"▾\";}#sk-container-id-2 div.sk-estimator input.sk-toggleable__control:checked~label.sk-toggleable__label {background-color: #d4ebff;}#sk-container-id-2 div.sk-label input.sk-toggleable__control:checked~label.sk-toggleable__label {background-color: #d4ebff;}#sk-container-id-2 input.sk-hidden--visually {border: 0;clip: rect(1px 1px 1px 1px);clip: rect(1px, 1px, 1px, 1px);height: 1px;margin: -1px;overflow: hidden;padding: 0;position: absolute;width: 1px;}#sk-container-id-2 div.sk-estimator {font-family: monospace;background-color: #f0f8ff;border: 1px dotted black;border-radius: 0.25em;box-sizing: border-box;margin-bottom: 0.5em;}#sk-container-id-2 div.sk-estimator:hover {background-color: #d4ebff;}#sk-container-id-2 div.sk-parallel-item::after {content: \"\";width: 100%;border-bottom: 1px solid gray;flex-grow: 1;}#sk-container-id-2 div.sk-label:hover label.sk-toggleable__label {background-color: #d4ebff;}#sk-container-id-2 div.sk-serial::before {content: \"\";position: absolute;border-left: 1px solid gray;box-sizing: border-box;top: 0;bottom: 0;left: 50%;z-index: 0;}#sk-container-id-2 div.sk-serial {display: flex;flex-direction: column;align-items: center;background-color: white;padding-right: 0.2em;padding-left: 0.2em;position: relative;}#sk-container-id-2 div.sk-item {position: relative;z-index: 1;}#sk-container-id-2 div.sk-parallel {display: flex;align-items: stretch;justify-content: center;background-color: white;position: relative;}#sk-container-id-2 div.sk-item::before, #sk-container-id-2 div.sk-parallel-item::before {content: \"\";position: absolute;border-left: 1px solid gray;box-sizing: border-box;top: 0;bottom: 0;left: 50%;z-index: -1;}#sk-container-id-2 div.sk-parallel-item {display: flex;flex-direction: column;z-index: 1;position: relative;background-color: white;}#sk-container-id-2 div.sk-parallel-item:first-child::after {align-self: flex-end;width: 50%;}#sk-container-id-2 div.sk-parallel-item:last-child::after {align-self: flex-start;width: 50%;}#sk-container-id-2 div.sk-parallel-item:only-child::after {width: 0;}#sk-container-id-2 div.sk-dashed-wrapped {border: 1px dashed gray;margin: 0 0.4em 0.5em 0.4em;box-sizing: border-box;padding-bottom: 0.4em;background-color: white;}#sk-container-id-2 div.sk-label label {font-family: monospace;font-weight: bold;display: inline-block;line-height: 1.2em;}#sk-container-id-2 div.sk-label-container {text-align: center;}#sk-container-id-2 div.sk-container {/* jupyter's `normalize.less` sets `[hidden] { display: none; }` but bootstrap.min.css set `[hidden] { display: none !important; }` so we also need the `!important` here to be able to override the default hidden behavior on the sphinx rendered scikit-learn.org. See: https://github.com/scikit-learn/scikit-learn/issues/21755 */display: inline-block !important;position: relative;}#sk-container-id-2 div.sk-text-repr-fallback {display: none;}</style><div id=\"sk-container-id-2\" class=\"sk-top-container\"><div class=\"sk-text-repr-fallback\"><pre>LinearRegression()</pre><b>In a Jupyter environment, please rerun this cell to show the HTML representation or trust the notebook. <br />On GitHub, the HTML representation is unable to render, please try loading this page with nbviewer.org.</b></div><div class=\"sk-container\" hidden><div class=\"sk-item\"><div class=\"sk-estimator sk-toggleable\"><input class=\"sk-toggleable__control sk-hidden--visually\" id=\"sk-estimator-id-2\" type=\"checkbox\" checked><label for=\"sk-estimator-id-2\" class=\"sk-toggleable__label sk-toggleable__label-arrow\">LinearRegression</label><div class=\"sk-toggleable__content\"><pre>LinearRegression()</pre></div></div></div></div></div>"
      ],
      "text/plain": [
       "LinearRegression()"
      ]
     },
     "execution_count": 53,
     "metadata": {},
     "output_type": "execute_result"
    }
   ],
   "source": [
    "lr = LinearRegression()\n",
    "lr.fit(X_train, y_train)\n"
   ]
  },
  {
   "cell_type": "code",
   "execution_count": 54,
   "id": "694e1f19",
   "metadata": {},
   "outputs": [],
   "source": [
    "y_pred = lr.predict(X_test)\n"
   ]
  },
  {
   "cell_type": "code",
   "execution_count": 55,
   "id": "367f9a4b",
   "metadata": {},
   "outputs": [],
   "source": [
    "from sklearn.metrics import r2_score\n",
    "\n",
    "y_pred = lr.predict(X_test)\n",
    "r2 = r2_score(y_test, y_pred)\n",
    "\n"
   ]
  },
  {
   "cell_type": "code",
   "execution_count": 56,
   "id": "fa794c40",
   "metadata": {},
   "outputs": [
    {
     "data": {
      "text/plain": [
       "0.8378856569356044"
      ]
     },
     "execution_count": 56,
     "metadata": {},
     "output_type": "execute_result"
    }
   ],
   "source": [
    "r2"
   ]
  },
  {
   "cell_type": "code",
   "execution_count": 57,
   "id": "9298a8ad",
   "metadata": {},
   "outputs": [],
   "source": [
    "\n",
    "from sklearn.metrics import accuracy_score\n",
    "from sklearn.linear_model import LogisticRegression"
   ]
  },
  {
   "cell_type": "code",
   "execution_count": 58,
   "id": "ca61e9d9",
   "metadata": {},
   "outputs": [],
   "source": [
    "median_spending = df['Yearly Amount Spent'].median()\n",
    "df['Spending_Class'] = df['Yearly Amount Spent'].apply(lambda x: 1 if x > median_spending else 0)"
   ]
  },
  {
   "cell_type": "code",
   "execution_count": 59,
   "id": "3cf83f2f",
   "metadata": {},
   "outputs": [],
   "source": [
    "X=df[[ 'Time on App', 'Length of Membership']]\n",
    "y=df[['Spending_Class']]"
   ]
  },
  {
   "cell_type": "code",
   "execution_count": 60,
   "id": "02ab5d64",
   "metadata": {},
   "outputs": [],
   "source": [
    "from sklearn.model_selection import train_test_split\n",
    "X_train,X_test,y_train,y_test=train_test_split(X,y,test_size=0.2,random_state=23)"
   ]
  },
  {
   "cell_type": "code",
   "execution_count": 61,
   "id": "29c171e4",
   "metadata": {},
   "outputs": [
    {
     "data": {
      "text/html": [
       "<style>#sk-container-id-3 {color: black;}#sk-container-id-3 pre{padding: 0;}#sk-container-id-3 div.sk-toggleable {background-color: white;}#sk-container-id-3 label.sk-toggleable__label {cursor: pointer;display: block;width: 100%;margin-bottom: 0;padding: 0.3em;box-sizing: border-box;text-align: center;}#sk-container-id-3 label.sk-toggleable__label-arrow:before {content: \"▸\";float: left;margin-right: 0.25em;color: #696969;}#sk-container-id-3 label.sk-toggleable__label-arrow:hover:before {color: black;}#sk-container-id-3 div.sk-estimator:hover label.sk-toggleable__label-arrow:before {color: black;}#sk-container-id-3 div.sk-toggleable__content {max-height: 0;max-width: 0;overflow: hidden;text-align: left;background-color: #f0f8ff;}#sk-container-id-3 div.sk-toggleable__content pre {margin: 0.2em;color: black;border-radius: 0.25em;background-color: #f0f8ff;}#sk-container-id-3 input.sk-toggleable__control:checked~div.sk-toggleable__content {max-height: 200px;max-width: 100%;overflow: auto;}#sk-container-id-3 input.sk-toggleable__control:checked~label.sk-toggleable__label-arrow:before {content: \"▾\";}#sk-container-id-3 div.sk-estimator input.sk-toggleable__control:checked~label.sk-toggleable__label {background-color: #d4ebff;}#sk-container-id-3 div.sk-label input.sk-toggleable__control:checked~label.sk-toggleable__label {background-color: #d4ebff;}#sk-container-id-3 input.sk-hidden--visually {border: 0;clip: rect(1px 1px 1px 1px);clip: rect(1px, 1px, 1px, 1px);height: 1px;margin: -1px;overflow: hidden;padding: 0;position: absolute;width: 1px;}#sk-container-id-3 div.sk-estimator {font-family: monospace;background-color: #f0f8ff;border: 1px dotted black;border-radius: 0.25em;box-sizing: border-box;margin-bottom: 0.5em;}#sk-container-id-3 div.sk-estimator:hover {background-color: #d4ebff;}#sk-container-id-3 div.sk-parallel-item::after {content: \"\";width: 100%;border-bottom: 1px solid gray;flex-grow: 1;}#sk-container-id-3 div.sk-label:hover label.sk-toggleable__label {background-color: #d4ebff;}#sk-container-id-3 div.sk-serial::before {content: \"\";position: absolute;border-left: 1px solid gray;box-sizing: border-box;top: 0;bottom: 0;left: 50%;z-index: 0;}#sk-container-id-3 div.sk-serial {display: flex;flex-direction: column;align-items: center;background-color: white;padding-right: 0.2em;padding-left: 0.2em;position: relative;}#sk-container-id-3 div.sk-item {position: relative;z-index: 1;}#sk-container-id-3 div.sk-parallel {display: flex;align-items: stretch;justify-content: center;background-color: white;position: relative;}#sk-container-id-3 div.sk-item::before, #sk-container-id-3 div.sk-parallel-item::before {content: \"\";position: absolute;border-left: 1px solid gray;box-sizing: border-box;top: 0;bottom: 0;left: 50%;z-index: -1;}#sk-container-id-3 div.sk-parallel-item {display: flex;flex-direction: column;z-index: 1;position: relative;background-color: white;}#sk-container-id-3 div.sk-parallel-item:first-child::after {align-self: flex-end;width: 50%;}#sk-container-id-3 div.sk-parallel-item:last-child::after {align-self: flex-start;width: 50%;}#sk-container-id-3 div.sk-parallel-item:only-child::after {width: 0;}#sk-container-id-3 div.sk-dashed-wrapped {border: 1px dashed gray;margin: 0 0.4em 0.5em 0.4em;box-sizing: border-box;padding-bottom: 0.4em;background-color: white;}#sk-container-id-3 div.sk-label label {font-family: monospace;font-weight: bold;display: inline-block;line-height: 1.2em;}#sk-container-id-3 div.sk-label-container {text-align: center;}#sk-container-id-3 div.sk-container {/* jupyter's `normalize.less` sets `[hidden] { display: none; }` but bootstrap.min.css set `[hidden] { display: none !important; }` so we also need the `!important` here to be able to override the default hidden behavior on the sphinx rendered scikit-learn.org. See: https://github.com/scikit-learn/scikit-learn/issues/21755 */display: inline-block !important;position: relative;}#sk-container-id-3 div.sk-text-repr-fallback {display: none;}</style><div id=\"sk-container-id-3\" class=\"sk-top-container\"><div class=\"sk-text-repr-fallback\"><pre>LogisticRegression(max_iter=10000, random_state=0)</pre><b>In a Jupyter environment, please rerun this cell to show the HTML representation or trust the notebook. <br />On GitHub, the HTML representation is unable to render, please try loading this page with nbviewer.org.</b></div><div class=\"sk-container\" hidden><div class=\"sk-item\"><div class=\"sk-estimator sk-toggleable\"><input class=\"sk-toggleable__control sk-hidden--visually\" id=\"sk-estimator-id-3\" type=\"checkbox\" checked><label for=\"sk-estimator-id-3\" class=\"sk-toggleable__label sk-toggleable__label-arrow\">LogisticRegression</label><div class=\"sk-toggleable__content\"><pre>LogisticRegression(max_iter=10000, random_state=0)</pre></div></div></div></div></div>"
      ],
      "text/plain": [
       "LogisticRegression(max_iter=10000, random_state=0)"
      ]
     },
     "execution_count": 61,
     "metadata": {},
     "output_type": "execute_result"
    }
   ],
   "source": [
    "clf=LogisticRegression(max_iter=10000, random_state=0)\n",
    "clf.fit(X_train,y_train)"
   ]
  },
  {
   "cell_type": "code",
   "execution_count": 62,
   "id": "51c04afd",
   "metadata": {},
   "outputs": [
    {
     "name": "stdout",
     "output_type": "stream",
     "text": [
      "Logistic Regression Model accuracy: 89.00%\n"
     ]
    }
   ],
   "source": [
    "acc=accuracy_score(y_test, clf.predict(X_test)) * 100\n",
    "print(f\"Logistic Regression Model accuracy: {acc:.2f}%\")"
   ]
  },
  {
   "cell_type": "code",
   "execution_count": 63,
   "id": "1ca889e6",
   "metadata": {},
   "outputs": [],
   "source": [
    "import joblib"
   ]
  },
  {
   "cell_type": "code",
   "execution_count": null,
   "id": "0d9519ca",
   "metadata": {},
   "outputs": [],
   "source": []
  }
 ],
 "metadata": {
  "kernelspec": {
   "display_name": "Python 3 (ipykernel)",
   "language": "python",
   "name": "python3"
  },
  "language_info": {
   "codemirror_mode": {
    "name": "ipython",
    "version": 3
   },
   "file_extension": ".py",
   "mimetype": "text/x-python",
   "name": "python",
   "nbconvert_exporter": "python",
   "pygments_lexer": "ipython3",
   "version": "3.11.5"
  }
 },
 "nbformat": 4,
 "nbformat_minor": 5
}
